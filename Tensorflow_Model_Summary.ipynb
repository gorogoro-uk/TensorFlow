{
  "nbformat": 4,
  "nbformat_minor": 0,
  "metadata": {
    "colab": {
      "name": "Tensorflow Model Summary.ipynb",
      "provenance": [],
      "authorship_tag": "ABX9TyNVvff1e70KtHjNpqqYcJna",
      "include_colab_link": true
    },
    "kernelspec": {
      "name": "python3",
      "display_name": "Python 3"
    }
  },
  "cells": [
    {
      "cell_type": "markdown",
      "metadata": {
        "id": "view-in-github",
        "colab_type": "text"
      },
      "source": [
        "<a href=\"https://colab.research.google.com/github/gorogoro-uk/TensorFlow/blob/master/Tensorflow_Model_Summary.ipynb\" target=\"_parent\"><img src=\"https://colab.research.google.com/assets/colab-badge.svg\" alt=\"Open In Colab\"/></a>"
      ]
    },
    {
      "cell_type": "markdown",
      "metadata": {
        "id": "JlEhTOaVxZGU",
        "colab_type": "text"
      },
      "source": [
        "**TensorFlow Model Summary**"
      ]
    },
    {
      "cell_type": "markdown",
      "metadata": {
        "id": "podxsRqs-ktg",
        "colab_type": "text"
      },
      "source": [
        "Callbacks"
      ]
    },
    {
      "cell_type": "code",
      "metadata": {
        "id": "CsGWzgdFxYPL",
        "colab_type": "code",
        "colab": {}
      },
      "source": [
        "# Accuracy Callback\n",
        "# check accuracy every epoch and stop training once reached desired level\n",
        "\n",
        "ACCURACY_LIMIT = 0.99\n",
        "# define accuracy callback class\n",
        "class myAccuracyCallback(tf.keras.callbacks.Callback):\n",
        "    def on_epoch_end(self, epoch, logs={}):\n",
        "        if (logs.get('accuracy') > ACCURACY_LIMIT):\n",
        "            print(f\"\\nreached {ACCURACY_LIMIT*100:.3%} accuracy, terminating training.\\n\")\n",
        "            self.model.stop_training = True\n",
        "\n",
        "# instantiate callback object\n",
        "acc_callback = myAccuracyCallback()\n",
        "\n",
        "# reference callback objcet in model.fit()\n",
        "mnist_model.fit(\n",
        "    x_train,\n",
        "    y_train,\n",
        "    epochs=10,\n",
        "    callbacks=[acc_callback]\n",
        ")"
      ],
      "execution_count": null,
      "outputs": []
    },
    {
      "cell_type": "code",
      "metadata": {
        "id": "vmUNNzrM9FSd",
        "colab_type": "code",
        "colab": {}
      },
      "source": [
        "# Learning Rate Callback\n",
        "# use different learning reate every epoch to find optimal value\n",
        "# plot loss v learning to find lowest stable value\n",
        "\n",
        "\n",
        "# instantiate a LeearningRateScheduler\n",
        "# make learning a function of epoch \n",
        "# 1e-8 < learning_rate < 1e-4 (when epoch = 100)\n",
        "lr_schedule = tf.keras.callbacks.LearningRateScheduler(\n",
        "    lambda epoch: 1e-8 * 10**(epoch / 20))\n",
        "\n",
        "# reference learning rate scheduler in model.fit()\n",
        "history = model.fit(dataset, \n",
        "                    epochs=100, \n",
        "                    callbacks=[lr_schedule])\n"
      ],
      "execution_count": null,
      "outputs": []
    },
    {
      "cell_type": "markdown",
      "metadata": {
        "id": "Ld4QasVf-ohP",
        "colab_type": "text"
      },
      "source": [
        ""
      ]
    }
  ]
}